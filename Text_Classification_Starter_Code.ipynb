{
  "cells": [
    {
      "cell_type": "markdown",
      "metadata": {
        "id": "3AkEoCKaHdpj"
      },
      "source": [
        "\n",
        "Trong notebook này, chúng ta sẽ thử quy trình lập trình RNN với Keras để phân loại các câu văn bản.\n",
        "\n",
        "I.   **Trước tiên**, chúng ta sẽ nhập các thư viện hữu ích.\n",
        "\n",
        "II.   **Sau đó**, chúng ta sẽ load dữ liệu và tạo ma trận word embedding bằng Glove.\n",
        "\n",
        "III.  **Chúng ta sẽ thử một mô hình RNN đơn giản** rồi đánh giá chất lượng của nó.\n",
        "\n",
        "IV. Cuối cùng, chúng ta sẽ sử dụng các kỹ thuật để gia tăng độ chính xác của mô hình."
      ]
    },
    {
      "cell_type": "markdown",
      "metadata": {
        "id": "_xY_w9I1cZni"
      },
      "source": [
        "**Task 1:** Thiết lập Fre GPU trong notebook này."
      ]
    },
    {
      "cell_type": "code",
      "execution_count": 1,
      "metadata": {
        "colab": {
          "base_uri": "https://localhost:8080/"
        },
        "id": "4niFF-5u53-1",
        "outputId": "9375d3df-ab77-407b-8f31-7c675c160d56"
      },
      "outputs": [
        {
          "output_type": "stream",
          "name": "stdout",
          "text": [
            "Looking in indexes: https://pypi.org/simple, https://us-python.pkg.dev/colab-wheels/public/simple/\n",
            "Collecting tensorflow_addons\n",
            "  Downloading tensorflow_addons-0.19.0-cp38-cp38-manylinux_2_17_x86_64.manylinux2014_x86_64.whl (1.1 MB)\n",
            "\u001b[2K     \u001b[90m━━━━━━━━━━━━━━━━━━━━━━━━━━━━━━━━━━━━━━━━\u001b[0m \u001b[32m1.1/1.1 MB\u001b[0m \u001b[31m28.4 MB/s\u001b[0m eta \u001b[36m0:00:00\u001b[0m\n",
            "\u001b[?25hRequirement already satisfied: packaging in /usr/local/lib/python3.8/dist-packages (from tensorflow_addons) (23.0)\n",
            "Requirement already satisfied: typeguard>=2.7 in /usr/local/lib/python3.8/dist-packages (from tensorflow_addons) (2.7.1)\n",
            "Installing collected packages: tensorflow_addons\n",
            "Successfully installed tensorflow_addons-0.19.0\n"
          ]
        }
      ],
      "source": [
        "!pip install tensorflow_addons"
      ]
    },
    {
      "cell_type": "markdown",
      "metadata": {
        "id": "H4iAL0E0ciDS"
      },
      "source": [
        "## Gắn Google Drive cục bộ\n",
        "**Task 2:** Gắn Google vào Google Colab Driver.\n",
        " "
      ]
    },
    {
      "cell_type": "code",
      "execution_count": 2,
      "metadata": {
        "colab": {
          "base_uri": "https://localhost:8080/"
        },
        "id": "I8iz8Rp8H5pG",
        "outputId": "7cce6180-092c-4256-96fa-acab0da0d318"
      },
      "outputs": [
        {
          "output_type": "stream",
          "name": "stdout",
          "text": [
            "Mounted at /content/drive\n"
          ]
        }
      ],
      "source": [
        "## VIẾT CODE cho task 2 ở đây:\n",
        "from google.colab import drive\n",
        "drive.mount('/content/drive')"
      ]
    },
    {
      "cell_type": "markdown",
      "metadata": {
        "id": "LeAakuO9cD5s"
      },
      "source": [
        "# I. Nhập tất cả các thư viện hữu ích."
      ]
    },
    {
      "cell_type": "code",
      "execution_count": 3,
      "metadata": {
        "id": "TWgEP6KSHmV_"
      },
      "outputs": [],
      "source": [
        "import sys, os, re, csv, codecs, numpy as np, pandas as pd\n",
        "import tensorflow.keras\n",
        "import datetime\n",
        "from tensorflow.keras import backend as K\n",
        "import tensorflow.keras.optimizers as Optimizer\n",
        "from tensorflow.keras.utils import to_categorical\n",
        "from tensorflow.keras.callbacks import ModelCheckpoint, TensorBoard\n",
        "from tensorflow.keras.preprocessing.text import Tokenizer\n",
        "from tensorflow.keras.preprocessing.sequence import pad_sequences\n",
        "from tensorflow.keras.layers import Dense, Input, LSTM, Embedding, Dropout, Activation\n",
        "from tensorflow.keras.layers import Bidirectional, GlobalMaxPool1D\n",
        "from tensorflow.keras.models import Model, load_model\n",
        "import tensorflow_addons as tfa\n",
        "\n",
        "from tensorflow.keras import initializers, regularizers, constraints, optimizers, layers\n",
        "from sklearn.metrics import confusion_matrix as CM\n",
        "from sklearn.metrics import confusion_matrix, f1_score, precision_score, recall_score\n",
        "import matplotlib.pyplot as plot\n",
        "import seaborn as sn"
      ]
    },
    {
      "cell_type": "markdown",
      "metadata": {
        "id": "ZvFTfBIscRwC"
      },
      "source": [
        "**Task 3**: Copy tập dữ liệu từ Google Drive vào Colab"
      ]
    },
    {
      "cell_type": "code",
      "execution_count": 4,
      "metadata": {
        "colab": {
          "base_uri": "https://localhost:8080/"
        },
        "id": "MzzQsanZIZfg",
        "outputId": "ea9e5a03-b68e-490e-fe38-7375088cc617"
      },
      "outputs": [
        {
          "output_type": "stream",
          "name": "stdout",
          "text": [
            "Archive:  drive/MyDrive/train.csv.zip\n",
            "  inflating: train.csv               \n"
          ]
        }
      ],
      "source": [
        "## VIẾT CODE cho task 3 ở đây:\n",
        "!unzip drive/MyDrive/train.csv.zip"
      ]
    },
    {
      "cell_type": "markdown",
      "metadata": {
        "id": "D_GxFMl7dFJ-"
      },
      "source": [
        "# II. Load dữ liệu.\n",
        "\n",
        "## Về tập dữ liệu.\n",
        "Câu hỏi không hợp lệ là những câu hỏi nhằm đưa ra một tuyên bố thay vì tìm kiếm những câu trả lời hữu ích. Một số đặc điểm cho thấy câu hỏi không hợp lệ gồm:\n",
        "\n",
        "* Có giọng điệu không trung lập.\n",
        "* Có tính chê bai hoặc kích động.\n",
        "* Không có căn cứ thực tế.\n",
        "* Sử dụng nội dung khiêu dâm (loạn luân, thú tính, ấu dâm) để gây sốc, không phải để tìm kiếm câu trả lời xác thực.\n",
        "\n",
        "Dữ liệu bao gồm câu hỏi đã đề ra và liệu nó có được xác định là không hợp lệ hay không (target = 1)."
      ]
    },
    {
      "cell_type": "markdown",
      "metadata": {
        "id": "A9HhWwT-gpuN"
      },
      "source": [
        "**Task 4**: Load tập dữ liệu.\n",
        "* Load dữ liệu từ file CSV.\n",
        "* Xóa tất cả các hàng có giá trị NA.\n",
        "* Chia dữ liệu thành 3 tập: Tập huấn luyện, tập kiểm định và tập kiểm tra (0.9/0.05/0.05, random_seed = 9) với cùng một tỷ lệ số dữ liệu giữa mỗi lớp.\n",
        "* In ra mô tả của tập dữ liệu này.\n",
        " \n",
        "\n"
      ]
    },
    {
      "cell_type": "code",
      "execution_count": 5,
      "metadata": {
        "id": "My7HP0Lf6nDP"
      },
      "outputs": [],
      "source": [
        "from sklearn.model_selection import train_test_split"
      ]
    },
    {
      "cell_type": "code",
      "execution_count": 6,
      "metadata": {
        "colab": {
          "base_uri": "https://localhost:8080/"
        },
        "id": "j9HMbZrqK1Rq",
        "outputId": "e626d9cb-ba7f-4eec-ad3f-91346698089e"
      },
      "outputs": [
        {
          "output_type": "stream",
          "name": "stdout",
          "text": [
            "count    1.175509e+06\n",
            "mean     6.185150e-02\n",
            "std      2.408858e-01\n",
            "min      0.000000e+00\n",
            "25%      0.000000e+00\n",
            "50%      0.000000e+00\n",
            "75%      0.000000e+00\n",
            "max      1.000000e+00\n",
            "Name: target, dtype: float64\n",
            "count    587755.000000\n",
            "mean          0.061968\n",
            "std           0.241098\n",
            "min           0.000000\n",
            "25%           0.000000\n",
            "50%           0.000000\n",
            "75%           0.000000\n",
            "max           1.000000\n",
            "Name: target, dtype: float64\n",
            "count    587754.000000\n",
            "mean          0.061735\n",
            "std           0.240674\n",
            "min           0.000000\n",
            "25%           0.000000\n",
            "50%           0.000000\n",
            "75%           0.000000\n",
            "max           1.000000\n",
            "Name: target, dtype: float64\n"
          ]
        }
      ],
      "source": [
        "def load_data(data_link):\n",
        "    '''\n",
        "    input: data link.\n",
        "    output:\n",
        "        train_set, validation_set và test_set(0.95/0.05/0.05) mà không có các giá trị NA.\n",
        "    '''\n",
        "    ## VIẾT CODE cho task 4 ở đây:\n",
        "    data = pd.read_csv(data_link)\n",
        "    data_no_na = data.dropna()\n",
        "    train, test = train_test_split(data_no_na, train_size = 0.9, random_state = 9)\n",
        "    test,validation = train_test_split(train, test_size = 0.5, random_state = 9)\n",
        "    \n",
        "    return train, validation, test\n",
        "\n",
        "train_set, validation_set, test_set = load_data('train.csv')\n",
        "print(train_set['target'].describe())\n",
        "print(validation_set['target'].describe())\n",
        "print(test_set['target'].describe())"
      ]
    },
    {
      "cell_type": "markdown",
      "metadata": {
        "id": "sIcOnRkbqofC"
      },
      "source": [
        "# Mã hóa dữ liệu văn bản.\n",
        "Hãy khai báo một số tham số cơ bản trước:"
      ]
    },
    {
      "cell_type": "code",
      "execution_count": 7,
      "metadata": {
        "id": "0F3_zcCjHwzm"
      },
      "outputs": [],
      "source": [
        "embed_size = 50 # mỗi vectơ từ lớn bao nhiêu\n",
        "max_features = 20000 # cần sử dụng bao nhiêu từ duy nhất (tức là số hàng trong vectơ embedding)\n",
        "max_len = 50 # sử dụng số từ tối đa trong câu hỏi\n"
      ]
    },
    {
      "cell_type": "markdown",
      "metadata": {
        "id": "vT8m71iixjxt"
      },
      "source": [
        "**Task 5:** Mã hóa tập dữ liệu bằng Tokenizer và vectơ biểu diễn one-hot.\n",
        "* Mã hóa văn bản (cột question_text) bằng cách chuyển từng question text thành danh sách chỉ mục từ bằng [Tokenizer](https://stackoverflow.com/questions/51956000/what-does-keras-tokenizer-method-exactly-do) với **max_features** và tất cả các câu văn bản từ tập huấn luyện và tập kiểm định.\n",
        "* Chuyển từng danh sách chỉ mục từ thành độ dài như nhau - **max_len** (có cắt tỉa hoặc đệm nếu cần) bằng cách sử dụng [pad_sequences](https://keras.io/preprocessing/sequence/).\n",
        "* Mã hóa nhãn (cột nhãn) bằng cách sử dụng hàm [to_categorical](https://keras.io/utils/) trong Keras."
      ]
    },
    {
      "cell_type": "code",
      "execution_count": 8,
      "metadata": {
        "id": "Q1MZKNs4xmfP"
      },
      "outputs": [],
      "source": [
        "def encoding_textdata(train_set, validation_set, test_set, max_features, max_len):\n",
        "    '''\n",
        "    Input:\n",
        "    - Train/validation/test dataset.\n",
        "    - max_features, max_len.\n",
        "    Output:\n",
        "    - X train/validation/test, y train/validation/test.\n",
        "    - Tokenizer.\n",
        "    '''\n",
        "    ## VIẾT CODE cho task 5 ở đây:\n",
        "    X_tr = train_set['question_text'].values\n",
        "    y_tr = train_set['target'].values\n",
        "    X_va = validation_set['question_text'].values\n",
        "    y_va = validation_set['target'].values\n",
        "    X_te = test_set['question_text'].values\n",
        "    y_te = test_set['target'].values\n",
        "\n",
        "\n",
        "    tokenizer = Tokenizer(num_words=max_features)\n",
        "    tokenizer.fit_on_texts(list(X_tr))\n",
        "    X_tr = tokenizer.texts_to_sequences(X_tr)\n",
        "    X_tr = pad_sequences(X_tr, maxlen=max_len)\n",
        "    y_tr = to_categorical(y_tr, num_classes=2)\n",
        "\n",
        "    X_va = tokenizer.texts_to_sequences(X_va)\n",
        "    X_va = pad_sequences(X_va, maxlen=max_len)\n",
        "    y_va = to_categorical(y_va, num_classes=2)\n",
        "\n",
        "    X_te = tokenizer.texts_to_sequences(X_te)\n",
        "    X_te = pad_sequences(X_te, maxlen=max_len)\n",
        "    y_te = to_categorical(y_te, num_classes=2)\n",
        "\n",
        "    return (X_tr, y_tr), (X_va, y_va), (X_te, y_te), tokenizer\n",
        "\n",
        "(X_tr, y_tr), (X_va, y_va), (X_te, y_te), tokenizer = encoding_textdata(train_set, validation_set, test_set, max_features, max_len)"
      ]
    },
    {
      "cell_type": "markdown",
      "metadata": {
        "id": "9kpG-p30WUcc"
      },
      "source": [
        "**Task 6**: Tạo ma trận word embedding.\n",
        "* Đầu tiên, hãy viết một hàm để load [GloVe dictionary.](https://medium.com/analytics-vidhya/basics-of-using-pre-trained-glove-vectors-in-python-d38905f356db)\n",
        "* Sau đó, tạo ma trận word embedding bằng GloVe dictionary với các tham số sau:\n",
        "    - Shape của ma trận word embedding: (Number of word, embed_size).\n",
        "    - Embed size: 50. \n",
        "    - Number of words: Tối thiểu của (max_features, len(word_index)), trong khi word_index là dictionary của từ chứa trong tokenizer.\n",
        "    - Nếu một từ xuất hiện trong GloVe dictionary, chúng ta nên lấy giá trị khởi tạo của nó như trong GloVe dictionary. Nếu không, hãy lấy một giá trị ngẫu nhiên bình thường với mean và std làm mean và std của giá trị GloVe dictionary.\n",
        "    \n",
        "\n"
      ]
    },
    {
      "cell_type": "code",
      "execution_count": 9,
      "metadata": {
        "colab": {
          "base_uri": "https://localhost:8080/"
        },
        "id": "F596feXeGLy3",
        "outputId": "131614e8-272d-4b8c-b92b-9938b82018df"
      },
      "outputs": [
        {
          "output_type": "stream",
          "name": "stdout",
          "text": [
            "Archive:  drive/MyDrive/glove.6B.50d.txt.zip\n",
            "  inflating: glove.6B.50d.txt        \n"
          ]
        }
      ],
      "source": [
        "!unzip drive/MyDrive/glove.6B.50d.txt.zip"
      ]
    },
    {
      "cell_type": "code",
      "execution_count": 10,
      "metadata": {
        "id": "47s8-SncWT3V"
      },
      "outputs": [],
      "source": [
        "def get_GloVe_dict(GloVe_link):\n",
        "    '''\n",
        "    input: GloVe link.\n",
        "    output: GloVe dictionary.\n",
        "    '''\n",
        "    ## VIẾT CODE cho task 6 ở đây:\n",
        "    embeddings_dict = {}\n",
        "    with open(GloVe_link, 'r', encoding='utf-8') as f:\n",
        "        for line in f:\n",
        "            values = line.split()\n",
        "            token = values[0]\n",
        "            vector = np.asarray(values[1:], \"float32\")\n",
        "            embeddings_dict[token] = vector\n",
        "\n",
        "    return embeddings_dict\n",
        "\n",
        "\n",
        "GloVe_link = 'glove.6B.50d.txt'\n",
        "GloVe_dict = get_GloVe_dict(GloVe_link)"
      ]
    },
    {
      "cell_type": "code",
      "execution_count": 11,
      "metadata": {
        "colab": {
          "base_uri": "https://localhost:8080/"
        },
        "id": "DXRyFSLtr4_k",
        "outputId": "3ff65fc0-60fc-44c4-953f-c5979ce79550"
      },
      "outputs": [
        {
          "output_type": "stream",
          "name": "stderr",
          "text": [
            "/usr/local/lib/python3.8/dist-packages/IPython/core/interactiveshell.py:3326: FutureWarning: arrays to stack must be passed as a \"sequence\" type such as list or tuple. Support for non-sequence iterables such as generators is deprecated as of NumPy 1.16 and will raise an error in the future.\n",
            "  exec(code_obj, self.user_global_ns, self.user_ns)\n"
          ]
        }
      ],
      "source": [
        "def create_embedding_matrix(GloVe_dict, tokenizer, max_features):\n",
        "    '''\n",
        "    input: GloVe dictionaray, tokenizer từ tập huấn luyện và tập kiểm định, số lượng đặc trưng tối đa.\n",
        "    output: Word embedding matrix.\n",
        "    '''\n",
        "    all_embs = np.stack(GloVe_dict.values())\n",
        "    emb_mean,emb_std = all_embs.mean(), all_embs.std()\n",
        "    embed_size = all_embs.shape[1]\n",
        "    word_index = tokenizer.word_index\n",
        "    embedding_matrix = np.random.normal(emb_mean, emb_std, (max_features, embed_size))\n",
        "    \n",
        "    for word, i in word_index.items():\n",
        "        if i >= max_features:\n",
        "            continue\n",
        "        embedding_vector = GloVe_dict.get(word)\n",
        "        if embedding_vector is not None: \n",
        "            embedding_matrix[i] = embedding_vector\n",
        "    \n",
        "    return embedding_matrix\n",
        "    \n",
        "embedding_matrix = create_embedding_matrix(GloVe_dict, tokenizer, max_features)"
      ]
    },
    {
      "cell_type": "markdown",
      "metadata": {
        "id": "NWybjdQkqWrg"
      },
      "source": [
        "# III. Lập mô hình\n",
        "Chúng ta cần hoàn thành một số bước: \n",
        "\n",
        "Xây dựng mô hình.\n",
        "\n",
        "Biên dịch mô hình.\n",
        "\n",
        "Huấn luyện/khớp dữ liệu với mô hình.\n",
        "\n",
        "Đánh giá mô hình trên tập kiểm tra."
      ]
    },
    {
      "cell_type": "markdown",
      "metadata": {
        "id": "I6AMfqQkqcET"
      },
      "source": [
        "## Xây dựng mô hình\n",
        "**Task 7:** Chúng ta có thể xây dựng một mô hình dễ dàng gồm các layer khác nhau như:\n",
        "* Layer [Embedding](https://keras.io/layers/embeddings/) với max_features, embed_size và embedding_matrix.\n",
        "* [Bidirectional LSTM layer](https://keras.io/examples/nlp/bidirectional_lstm_imdb/?fbclid=IwAR3fEd6aWyeIDEhZSspjtCRiP0c0Jnz5-XdnUHQYwX8Tp8k9Ni4I8Q5tP9o) với số lượng trạng thái ẩn = 50, dropout_rate = 0.1 và recurrent_dropout_rate = 0.1.\n",
        "* GlobalMaxPool1D.\n",
        "* Dense với số nút = 50, activation = 'relu'.\n",
        "* Dropout với rate = 0.1.\n",
        "* Final dense với số nút = số class, activation = 'sigmoid'."
      ]
    },
    {
      "cell_type": "code",
      "execution_count": 12,
      "metadata": {
        "colab": {
          "base_uri": "https://localhost:8080/"
        },
        "id": "J7_eizWaqi_7",
        "outputId": "47c60903-4fbe-44e9-8a98-c4550e53fb2b"
      },
      "outputs": [
        {
          "output_type": "stream",
          "name": "stderr",
          "text": [
            "WARNING:tensorflow:Layer lstm will not use cuDNN kernels since it doesn't meet the criteria. It will use a generic GPU kernel as fallback when running on GPU.\n",
            "WARNING:tensorflow:Layer lstm will not use cuDNN kernels since it doesn't meet the criteria. It will use a generic GPU kernel as fallback when running on GPU.\n",
            "WARNING:tensorflow:Layer lstm will not use cuDNN kernels since it doesn't meet the criteria. It will use a generic GPU kernel as fallback when running on GPU.\n"
          ]
        }
      ],
      "source": [
        "def create_model(embedding_matrix, max_len, max_features, embed_size):\n",
        "    '''\n",
        "    input: max_len, max_features, embed_size\n",
        "    output: model.\n",
        "    '''\n",
        "    ## VIẾT CODE cho task 7 ở đây:\n",
        "    inp = Input(shape=(max_len,))\n",
        "    x = Embedding(max_features, embed_size, weights=[embedding_matrix])(inp)\n",
        "    x = layers.Bidirectional(layers.LSTM(50, recurrent_dropout=0.1, dropout=0.1, return_sequences=True))(x)\n",
        "    x = GlobalMaxPool1D()(x)\n",
        "    x = Dense(50, activation=\"relu\")(x)\n",
        "    x = Dropout(0.1)(x)\n",
        "    x = Dense(2, activation=\"sigmoid\")(x)\n",
        "    model = Model(inputs=inp, outputs=x)\n",
        "\n",
        "    return model\n",
        "\n",
        "model = create_model(embedding_matrix, max_len, max_features, embed_size)"
      ]
    },
    {
      "cell_type": "markdown",
      "metadata": {
        "id": "lWcBKhzMux9Z"
      },
      "source": [
        "**Task 8:** Biên dịch mô hình và thiết lập callback. Sau đó in ra model summary.\n",
        "* [Biên dịch](https://keras.io/models/model/#compile) mô hình với Adam Optimizer, lr = 1e-2, loss phù hợp cho bài toán phân loại nhị phân và [\"F1-score\"](https://github.com/tensorflow/addons/issues/825) là phép đo.\n",
        "* In ra model summary."
      ]
    },
    {
      "cell_type": "code",
      "execution_count": 13,
      "metadata": {
        "colab": {
          "base_uri": "https://localhost:8080/"
        },
        "id": "P9l8EbG0ur1F",
        "outputId": "8c48a5d8-d973-4d7f-f773-c790bdedced2"
      },
      "outputs": [
        {
          "output_type": "stream",
          "name": "stdout",
          "text": [
            "Model: \"model\"\n",
            "_________________________________________________________________\n",
            " Layer (type)                Output Shape              Param #   \n",
            "=================================================================\n",
            " input_1 (InputLayer)        [(None, 50)]              0         \n",
            "                                                                 \n",
            " embedding (Embedding)       (None, 50, 50)            1000000   \n",
            "                                                                 \n",
            " bidirectional (Bidirectiona  (None, 50, 100)          40400     \n",
            " l)                                                              \n",
            "                                                                 \n",
            " global_max_pooling1d (Globa  (None, 100)              0         \n",
            " lMaxPooling1D)                                                  \n",
            "                                                                 \n",
            " dense (Dense)               (None, 50)                5050      \n",
            "                                                                 \n",
            " dropout (Dropout)           (None, 50)                0         \n",
            "                                                                 \n",
            " dense_1 (Dense)             (None, 2)                 102       \n",
            "                                                                 \n",
            "=================================================================\n",
            "Total params: 1,045,552\n",
            "Trainable params: 1,045,552\n",
            "Non-trainable params: 0\n",
            "_________________________________________________________________\n",
            "None\n"
          ]
        }
      ],
      "source": [
        "def optimize(model):\n",
        "    '''\n",
        "    Input: \n",
        "        Mô hình.\n",
        "    Return: \n",
        "        Mô hình đã biên dịch.\n",
        "    '''\n",
        "    ## VIẾT CODE cho task 8 ở đây:\n",
        "    loss = tensorflow.keras.losses.BinaryCrossentropy()\n",
        "    opt = optimizers.Adam(learning_rate = 1e-2)\n",
        "    model.compile(optimizer = opt, loss=loss, metrics=[tfa.metrics.F1Score(num_classes = 2,average='macro',threshold=0.5)])\n",
        "\n",
        "    return model\n",
        "\n",
        "model = optimize(model)\n",
        "print(model.summary())"
      ]
    },
    {
      "cell_type": "markdown",
      "metadata": {
        "id": "0BlenccGzLVr"
      },
      "source": [
        "**Task 9**: Thiết lập callback.\n",
        "* Tạo [tensorboard callback](https://www.tensorflow.org/tensorboard/tensorboard_in_notebooks) để lưu logs.\n",
        "* Tạo [checkpoint callback](https://machinelearningmastery.com/check-point-deep-learning-models-keras/) để lưu checkpoint với độ chính xác tốt nhất sau mỗi epoch.\n",
        "* Tạo [ReduceLROnPlateau](https://keras.io/callbacks/#reducelronplateau) callback với factor=0.3, patience=1 và \"Validation F1-score\" monitor.\n",
        "* Tạo [early stopping callback](https://keras.io/callbacks/#earlystopping) với patience=7, mode = 'max' và \"Validation F1-score\" monitor.\n",
        "\n"
      ]
    },
    {
      "cell_type": "code",
      "execution_count": 14,
      "metadata": {
        "id": "I6x6dteutin0"
      },
      "outputs": [],
      "source": [
        "def callback_model(checkpoint_name, logs_name):\n",
        "    '''\n",
        "    Input: \n",
        "        Checkpoint name, logs name tốt nhất.\n",
        "    Return: \n",
        "        Callback list có chứa tensorboard callback và checkpoint callback.\n",
        "    '''\n",
        "    ## VIẾT CODE cho task 9 ở đây:\n",
        "\n",
        "    logdir = os.path.join(logs_name, datetime.datetime.now().strftime(\"%Y%m%d-%H%M%S\"))\n",
        "    tensorboard_callback = TensorBoard(log_dir=logdir, histogram_freq=1)\n",
        "    checkpoint = ModelCheckpoint(filepath=checkpoint_name, monitor='val_f1_score', verbose=1, save_best_only=True, mode='max')\n",
        "\n",
        "    callbacks_list = [tensorflow.keras.callbacks.ReduceLROnPlateau(patience=1, factor=0.3, monitor='val_f1_score'),\n",
        "        tensorflow.keras.callbacks.EarlyStopping(patience=7, mode='max', monitor='val_f1_score'),\n",
        "        checkpoint,\n",
        "        tensorboard_callback,\n",
        "    ]\n",
        "    return callbacks_list\n",
        "\n",
        "checkpoint_name = 'weights.best.hdf5'\n",
        "logs_name = 'training_logs'\n",
        "callbacks_list = callback_model(checkpoint_name, logs_name)"
      ]
    },
    {
      "cell_type": "code",
      "execution_count": 15,
      "metadata": {
        "colab": {
          "base_uri": "https://localhost:8080/"
        },
        "id": "WHTwh8OyvGqa",
        "outputId": "2c2d5c71-ab49-4b56-a043-572538f45db6"
      },
      "outputs": [
        {
          "output_type": "stream",
          "name": "stdout",
          "text": [
            "Model: \"model\"\n",
            "_________________________________________________________________\n",
            " Layer (type)                Output Shape              Param #   \n",
            "=================================================================\n",
            " input_1 (InputLayer)        [(None, 50)]              0         \n",
            "                                                                 \n",
            " embedding (Embedding)       (None, 50, 50)            1000000   \n",
            "                                                                 \n",
            " bidirectional (Bidirectiona  (None, 50, 100)          40400     \n",
            " l)                                                              \n",
            "                                                                 \n",
            " global_max_pooling1d (Globa  (None, 100)              0         \n",
            " lMaxPooling1D)                                                  \n",
            "                                                                 \n",
            " dense (Dense)               (None, 50)                5050      \n",
            "                                                                 \n",
            " dropout (Dropout)           (None, 50)                0         \n",
            "                                                                 \n",
            " dense_1 (Dense)             (None, 2)                 102       \n",
            "                                                                 \n",
            "=================================================================\n",
            "Total params: 1,045,552\n",
            "Trainable params: 1,045,552\n",
            "Non-trainable params: 0\n",
            "_________________________________________________________________\n"
          ]
        }
      ],
      "source": [
        "model.summary()"
      ]
    },
    {
      "cell_type": "markdown",
      "metadata": {
        "id": "9nDCsHAC2HwW"
      },
      "source": [
        "**Task 10:** Huấn luyện mô hình.\n",
        "\n",
        "* Huấn luyện mô hình với 20 epoch với batch_size = 4096.\n",
        "* Trả về mô hình có trọng số checkpoint tốt nhất.\n",
        "\n",
        "*Gợi ý*: Trước tiên hãy khớp mô hình, sau đó reload mô hình (hàm load_model) với trọng số checkpoint tốt nhất."
      ]
    },
    {
      "cell_type": "code",
      "execution_count": 16,
      "metadata": {
        "colab": {
          "base_uri": "https://localhost:8080/"
        },
        "id": "xttwiHh4u0ES",
        "outputId": "6628706e-c4b3-4b11-96eb-7811ce66bb7c"
      },
      "outputs": [
        {
          "output_type": "stream",
          "name": "stdout",
          "text": [
            "Epoch 1/20\n"
          ]
        },
        {
          "output_type": "stream",
          "name": "stderr",
          "text": [
            "WARNING:tensorflow:From /usr/local/lib/python3.8/dist-packages/tensorflow/python/autograph/pyct/static_analysis/liveness.py:83: Analyzer.lamba_check (from tensorflow.python.autograph.pyct.static_analysis.liveness) is deprecated and will be removed after 2023-09-23.\n",
            "Instructions for updating:\n",
            "Lambda fuctions will be no more assumed to be used in the statement where they are used, or at least in the same block. https://github.com/tensorflow/tensorflow/issues/56089\n"
          ]
        },
        {
          "output_type": "stream",
          "name": "stdout",
          "text": [
            "287/287 [==============================] - ETA: 0s - loss: 0.1329 - f1_score: 0.6852\n",
            "Epoch 1: val_f1_score improved from -inf to 0.81585, saving model to weights.best.hdf5\n",
            "287/287 [==============================] - 186s 611ms/step - loss: 0.1329 - f1_score: 0.6852 - val_loss: 0.1055 - val_f1_score: 0.8158 - lr: 0.0100\n",
            "Epoch 2/20\n",
            "287/287 [==============================] - ETA: 0s - loss: 0.1056 - f1_score: 0.8085\n",
            "Epoch 2: val_f1_score improved from 0.81585 to 0.83125, saving model to weights.best.hdf5\n",
            "287/287 [==============================] - 157s 546ms/step - loss: 0.1056 - f1_score: 0.8085 - val_loss: 0.0957 - val_f1_score: 0.8312 - lr: 0.0100\n",
            "Epoch 3/20\n",
            "287/287 [==============================] - ETA: 0s - loss: 0.0951 - f1_score: 0.8298\n",
            "Epoch 3: val_f1_score improved from 0.83125 to 0.85042, saving model to weights.best.hdf5\n",
            "287/287 [==============================] - 146s 507ms/step - loss: 0.0951 - f1_score: 0.8298 - val_loss: 0.0893 - val_f1_score: 0.8504 - lr: 0.0030\n",
            "Epoch 4/20\n",
            "287/287 [==============================] - ETA: 0s - loss: 0.0902 - f1_score: 0.8419\n",
            "Epoch 4: val_f1_score improved from 0.85042 to 0.85346, saving model to weights.best.hdf5\n",
            "287/287 [==============================] - 144s 503ms/step - loss: 0.0902 - f1_score: 0.8419 - val_loss: 0.0864 - val_f1_score: 0.8535 - lr: 9.0000e-04\n",
            "Epoch 5/20\n",
            "287/287 [==============================] - ETA: 0s - loss: 0.0884 - f1_score: 0.8454\n",
            "Epoch 5: val_f1_score improved from 0.85346 to 0.85418, saving model to weights.best.hdf5\n",
            "287/287 [==============================] - 148s 515ms/step - loss: 0.0884 - f1_score: 0.8454 - val_loss: 0.0856 - val_f1_score: 0.8542 - lr: 2.7000e-04\n",
            "Epoch 6/20\n",
            "287/287 [==============================] - ETA: 0s - loss: 0.0878 - f1_score: 0.8470\n",
            "Epoch 6: val_f1_score improved from 0.85418 to 0.85506, saving model to weights.best.hdf5\n",
            "287/287 [==============================] - 147s 513ms/step - loss: 0.0878 - f1_score: 0.8470 - val_loss: 0.0855 - val_f1_score: 0.8551 - lr: 8.1000e-05\n",
            "Epoch 7/20\n",
            "287/287 [==============================] - ETA: 0s - loss: 0.0877 - f1_score: 0.8471\n",
            "Epoch 7: val_f1_score improved from 0.85506 to 0.85524, saving model to weights.best.hdf5\n",
            "287/287 [==============================] - 148s 517ms/step - loss: 0.0877 - f1_score: 0.8471 - val_loss: 0.0854 - val_f1_score: 0.8552 - lr: 2.4300e-05\n",
            "Epoch 8/20\n",
            "287/287 [==============================] - ETA: 0s - loss: 0.0876 - f1_score: 0.8475\n",
            "Epoch 8: val_f1_score did not improve from 0.85524\n",
            "287/287 [==============================] - 142s 497ms/step - loss: 0.0876 - f1_score: 0.8475 - val_loss: 0.0854 - val_f1_score: 0.8550 - lr: 7.2900e-06\n",
            "Epoch 9/20\n",
            "287/287 [==============================] - ETA: 0s - loss: 0.0876 - f1_score: 0.8470\n",
            "Epoch 9: val_f1_score did not improve from 0.85524\n",
            "287/287 [==============================] - 149s 516ms/step - loss: 0.0876 - f1_score: 0.8470 - val_loss: 0.0854 - val_f1_score: 0.8551 - lr: 2.1870e-06\n",
            "Epoch 10/20\n",
            "287/287 [==============================] - ETA: 0s - loss: 0.0876 - f1_score: 0.8471\n",
            "Epoch 10: val_f1_score did not improve from 0.85524\n",
            "287/287 [==============================] - 148s 516ms/step - loss: 0.0876 - f1_score: 0.8471 - val_loss: 0.0854 - val_f1_score: 0.8551 - lr: 6.5610e-07\n",
            "Epoch 11/20\n",
            "287/287 [==============================] - ETA: 0s - loss: 0.0876 - f1_score: 0.8476\n",
            "Epoch 11: val_f1_score did not improve from 0.85524\n",
            "287/287 [==============================] - 144s 500ms/step - loss: 0.0876 - f1_score: 0.8476 - val_loss: 0.0854 - val_f1_score: 0.8551 - lr: 1.9683e-07\n",
            "Epoch 12/20\n",
            "287/287 [==============================] - ETA: 0s - loss: 0.0877 - f1_score: 0.8472\n",
            "Epoch 12: val_f1_score did not improve from 0.85524\n",
            "287/287 [==============================] - 147s 513ms/step - loss: 0.0877 - f1_score: 0.8472 - val_loss: 0.0854 - val_f1_score: 0.8551 - lr: 5.9049e-08\n",
            "Epoch 13/20\n",
            "287/287 [==============================] - ETA: 0s - loss: 0.0876 - f1_score: 0.8474\n",
            "Epoch 13: val_f1_score did not improve from 0.85524\n",
            "287/287 [==============================] - 142s 496ms/step - loss: 0.0876 - f1_score: 0.8474 - val_loss: 0.0854 - val_f1_score: 0.8551 - lr: 1.7715e-08\n",
            "Epoch 14/20\n",
            "287/287 [==============================] - ETA: 0s - loss: 0.0876 - f1_score: 0.8473\n",
            "Epoch 14: val_f1_score did not improve from 0.85524\n",
            "287/287 [==============================] - 145s 505ms/step - loss: 0.0876 - f1_score: 0.8473 - val_loss: 0.0854 - val_f1_score: 0.8551 - lr: 5.3144e-09\n"
          ]
        },
        {
          "output_type": "stream",
          "name": "stderr",
          "text": [
            "WARNING:tensorflow:Layer lstm will not use cuDNN kernels since it doesn't meet the criteria. It will use a generic GPU kernel as fallback when running on GPU.\n",
            "WARNING:tensorflow:Layer lstm will not use cuDNN kernels since it doesn't meet the criteria. It will use a generic GPU kernel as fallback when running on GPU.\n",
            "WARNING:tensorflow:Layer lstm will not use cuDNN kernels since it doesn't meet the criteria. It will use a generic GPU kernel as fallback when running on GPU.\n"
          ]
        }
      ],
      "source": [
        "def train_model(model, callbacks_list, X_tr, y_tr, X_va, y_va):\n",
        "    '''\n",
        "    Input: \n",
        "        Mô hình và callback list,\n",
        "    Return: \n",
        "        Mô hình với trọng số checkpoint tốt nhất.\n",
        "    '''\n",
        "    ## VIẾT CODE cho task 10 ở đây:\n",
        "    model.fit(X_tr, y_tr,\n",
        "              epochs=20, \n",
        "              batch_size=4096,\n",
        "              validation_data=(X_va, y_va), \n",
        "              callbacks=callbacks_list)\n",
        "    model = load_model('weights.best.hdf5')\n",
        "    return model\n",
        "\n",
        "model = train_model(model, callbacks_list, X_tr, y_tr, X_va, y_va)"
      ]
    },
    {
      "cell_type": "markdown",
      "metadata": {
        "id": "QsG02Ao07Mc-"
      },
      "source": [
        "**Task 11:** Hiển thị tensorboard trong notebook."
      ]
    },
    {
      "cell_type": "code",
      "execution_count": 17,
      "metadata": {
        "id": "jpBk-EKZ2Ut7"
      },
      "outputs": [],
      "source": [
        "## VIẾT CODE cho task 11 ở đây:"
      ]
    },
    {
      "cell_type": "markdown",
      "metadata": {
        "id": "4z1ed1CY8Rxh"
      },
      "source": [
        "**Task 12:** Dự đoán trên tập kiểm tra.\n",
        "\n",
        "* Hoàn thành hàm get_prediction_classes.\n",
        "* In ra precision, recall và F1 score."
      ]
    },
    {
      "cell_type": "code",
      "execution_count": 18,
      "metadata": {
        "colab": {
          "base_uri": "https://localhost:8080/"
        },
        "id": "gHTjBLZYvx26",
        "outputId": "adb694d5-dbf9-42da-f2d4-1a895bee898b"
      },
      "outputs": [
        {
          "output_type": "stream",
          "name": "stdout",
          "text": [
            "18368/18368 [==============================] - 559s 30ms/step\n",
            "0.8534243527931547\n",
            "0.8554225701734304\n",
            "0.8544195416024838\n"
          ]
        }
      ],
      "source": [
        "def get_prediction_classes(model, X, y):\n",
        "    ## VIẾT CODE cho task 12 ở đây:\n",
        "    '''\n",
        "    Input: \n",
        "        Mô hình và tập dữ liệu dự đoán. \n",
        "    Return: \n",
        "        Prediction list và groundtrurth list với predicted classes. \n",
        "    '''\n",
        "    groundtruths = model.predict(X)\n",
        "    predictions = np.round(groundtruths)\n",
        "    return predictions, y\n",
        "\n",
        "    return predictions, groundtruths\n",
        "\n",
        "\n",
        "test_predictions, test_groundtruths = get_prediction_classes(model,  X_te, y_te)\n",
        "print(precision_score(test_groundtruths, test_predictions, average='macro'))\n",
        "print(recall_score(test_groundtruths, test_predictions, average='macro'))\n",
        "print(f1_score(test_groundtruths, test_predictions, average='macro'))"
      ]
    },
    {
      "cell_type": "markdown",
      "metadata": {
        "id": "JJwQahjp8hZs"
      },
      "source": [
        "**Task 13:** Thực hiện kết quả dự đoán trên tập kiểm tra bằng cách sử dụng ma trận nhầm lẫn. Hãy nhớ hiển thị tên lớp trong ma trận nhầm lẫn."
      ]
    },
    {
      "cell_type": "code",
      "execution_count": 19,
      "metadata": {
        "id": "muQDAYgBO1qA"
      },
      "outputs": [],
      "source": [
        "from sklearn.metrics import ConfusionMatrixDisplay"
      ]
    },
    {
      "cell_type": "code",
      "execution_count": 20,
      "metadata": {
        "colab": {
          "base_uri": "https://localhost:8080/",
          "height": 279
        },
        "id": "5KKAmOGvv2Be",
        "outputId": "b8c510aa-c73c-47ec-f2f4-ac0461c7c238"
      },
      "outputs": [
        {
          "output_type": "display_data",
          "data": {
            "text/plain": [
              "<Figure size 432x288 with 2 Axes>"
            ],
            "image/png": "[encoded data removed]"
          },
          "metadata": {
            "needs_background": "light"
          }
        }
      ],
      "source": [
        "def plot_confusion_matrix(predictions, groundtruth, class_names):\n",
        "    ## VIẾT CODE cho task 13 ở đây:\n",
        "    con_mat = confusion_matrix(groundtruth.argmax(axis=1) , predictions.argmax(axis=1))   \n",
        "    disp = ConfusionMatrixDisplay(confusion_matrix=con_mat, display_labels=class_names)\n",
        "\n",
        "    disp.plot(cmap=plot.cm.Blues)\n",
        "    plot.show()\n",
        "\n",
        "class_names = ['valid', 'invalid']\n",
        "plot_confusion_matrix(test_predictions, test_groundtruths, class_names)"
      ]
    },
    {
      "cell_type": "markdown",
      "metadata": {
        "id": "fGmUAFDi87Z6"
      },
      "source": [
        "**Task 14**: Tinh chỉnh mô hình - tinh chỉnh mô hình bằng cách sử dụng một số phương pháp sau:\n",
        "* Tăng tối đa epoch, thay đổi batch size.\n",
        "* Thay thế LSTM bằng các nút GRU và kiểm tra xem nó có thay đổi gì không.\n",
        "* Thêm một layer LSTM/GRU khác hoặc thay thế nó bằng mô-đun Attention/Transformers, xem có cải thiện gì không.\n",
        "* Thử với Dense layer (add/# units/...).\n",
        "* Tìm các quy tắc tiền xử lý mà bạn có thể thêm để cải thiện chất lượng dữ liệu. \n",
        "* Find another GloVe dictionary. Tìm một GloVe dictionary khác.\n",
        "Yêu cầu: F1 score phải tăng thêm 2-3%."
      ]
    },
    {
      "cell_type": "code",
      "execution_count": 21,
      "metadata": {
        "id": "ELLyczmROE8J"
      },
      "outputs": [],
      "source": [
        "## VIẾT CODE cho task 14 ở đây:\n",
        "train_set, validation_set, test_set = load_data('train.csv')\n",
        "\n",
        "embed_size = 100\n",
        "max_features = 50000\n",
        "maxlen = 200\n",
        "\n",
        "(X_tr, y_tr), (X_va, y_va), (X_te, y_te), tokenizer = encoding_textdata(train_set, validation_set, test_set, max_features, max_len)"
      ]
    },
    {
      "cell_type": "code",
      "execution_count": 22,
      "metadata": {
        "colab": {
          "base_uri": "https://localhost:8080/"
        },
        "id": "fu7-NuVBm03p",
        "outputId": "ffa2eba9-d8f7-4a89-c702-af67273f5fd1"
      },
      "outputs": [
        {
          "output_type": "stream",
          "name": "stdout",
          "text": [
            "Archive:  drive/MyDrive/glove.6B.100d.txt.zip\n",
            "  inflating: glove.6B.100d.txt       \n"
          ]
        }
      ],
      "source": [
        "!unzip drive/MyDrive/glove.6B.100d.txt.zip"
      ]
    },
    {
      "cell_type": "code",
      "execution_count": 23,
      "metadata": {
        "id": "GHFZjJdiEuSY"
      },
      "outputs": [],
      "source": [
        "def get_GloVe_dict(GloVe_link):\n",
        "    '''\n",
        "    input: GloVe link.\n",
        "    output: GloVe dictionary.\n",
        "    '''\n",
        "    ## VIẾT CODE cho task 6 ở đây:\n",
        "    embeddings_dict = {}\n",
        "    with open(GloVe_link, 'r', encoding='utf-8') as f:\n",
        "        for line in f:\n",
        "            values = line.split()\n",
        "            token = values[0]\n",
        "            vector = np.asarray(values[1:], \"float32\")\n",
        "            embeddings_dict[token] = vector\n",
        "\n",
        "    return embeddings_dict\n",
        "\n",
        "\n",
        "GloVe_link = 'glove.6B.100d.txt'\n",
        "GloVe_dict = get_GloVe_dict(GloVe_link)"
      ]
    },
    {
      "cell_type": "code",
      "execution_count": 24,
      "metadata": {
        "colab": {
          "base_uri": "https://localhost:8080/"
        },
        "id": "1N3-_cFfGw6n",
        "outputId": "2351d8f3-fb86-4156-8241-1fb0365639bb"
      },
      "outputs": [
        {
          "output_type": "stream",
          "name": "stderr",
          "text": [
            "/usr/local/lib/python3.8/dist-packages/IPython/core/interactiveshell.py:3326: FutureWarning: arrays to stack must be passed as a \"sequence\" type such as list or tuple. Support for non-sequence iterables such as generators is deprecated as of NumPy 1.16 and will raise an error in the future.\n",
            "  exec(code_obj, self.user_global_ns, self.user_ns)\n"
          ]
        }
      ],
      "source": [
        "def create_embedding_matrix(GloVe_dict, tokenizer, max_features):\n",
        "    '''\n",
        "    input: GloVe dictionaray, tokenizer từ tập huấn luyện và tập kiểm định, số lượng đặc trưng tối đa.\n",
        "    output: Word embedding matrix.\n",
        "    '''\n",
        "    all_embs = np.stack(GloVe_dict.values())\n",
        "    emb_mean,emb_std = all_embs.mean(), all_embs.std()\n",
        "    embed_size = all_embs.shape[1]\n",
        "    word_index = tokenizer.word_index\n",
        "    embedding_matrix = np.random.normal(emb_mean, emb_std, (max_features, embed_size))\n",
        "    \n",
        "    for word, i in word_index.items():\n",
        "        if i >= max_features:\n",
        "            continue\n",
        "        embedding_vector = GloVe_dict.get(word)\n",
        "        if embedding_vector is not None: \n",
        "            embedding_matrix[i] = embedding_vector\n",
        "    \n",
        "    return embedding_matrix\n",
        "    \n",
        "embedding_matrix = create_embedding_matrix(GloVe_dict, tokenizer, max_features)"
      ]
    },
    {
      "cell_type": "code",
      "execution_count": 25,
      "metadata": {
        "colab": {
          "base_uri": "https://localhost:8080/"
        },
        "id": "QNmJFi3FISr4",
        "outputId": "61eb4319-090f-4ad5-877e-6ec260ca479c"
      },
      "outputs": [
        {
          "output_type": "execute_result",
          "data": {
            "text/plain": [
              "(50000, 100)"
            ]
          },
          "metadata": {},
          "execution_count": 25
        }
      ],
      "source": [
        "embedding_matrix.shape"
      ]
    },
    {
      "cell_type": "code",
      "execution_count": 26,
      "metadata": {
        "id": "jN6uw8c0IaQA"
      },
      "outputs": [],
      "source": [
        "def create_model_v2(embedding_matrix,max_len, max_features, embed_size):\n",
        "    inp = Input(shape=(max_len,))\n",
        "    x = Embedding(max_features, embed_size)(inp)\n",
        "    x = layers.Bidirectional(layers.GRU(64, weights = [embedding_matrix], return_sequences=True))(x)\n",
        "    x = GlobalMaxPool1D()(x)\n",
        "    x = Dense(128,activation = 'relu')(x)\n",
        "    x = Dropout(0.1)(x)\n",
        "    x = Dense(64, activation = 'relu')(x)\n",
        "    x = Dropout(0.1)(x)\n",
        "    x = Dense(32, activation = 'relu')(x)\n",
        "    x = Dropout(0.1)(x)\n",
        "    x = Dense(2, activation = 'sigmoid')(x)\n",
        "    model = Model(inputs = inp, outputs = x)\n",
        "\n",
        "    return model\n",
        "\n",
        "model_v2 = create_model_v2(embedding_matrix, max_len, max_features, embed_size)"
      ]
    },
    {
      "cell_type": "code",
      "execution_count": 27,
      "metadata": {
        "colab": {
          "base_uri": "https://localhost:8080/"
        },
        "id": "yJvZ60XPRsON",
        "outputId": "9ab304b8-cef9-407b-fabd-4db5432af87d"
      },
      "outputs": [
        {
          "output_type": "stream",
          "name": "stdout",
          "text": [
            "Model: \"model_1\"\n",
            "_________________________________________________________________\n",
            " Layer (type)                Output Shape              Param #   \n",
            "=================================================================\n",
            " input_2 (InputLayer)        [(None, 50)]              0         \n",
            "                                                                 \n",
            " embedding_1 (Embedding)     (None, 50, 100)           5000000   \n",
            "                                                                 \n",
            " bidirectional_1 (Bidirectio  (None, 50, 128)          63744     \n",
            " nal)                                                            \n",
            "                                                                 \n",
            " global_max_pooling1d_1 (Glo  (None, 128)              0         \n",
            " balMaxPooling1D)                                                \n",
            "                                                                 \n",
            " dense_2 (Dense)             (None, 128)               16512     \n",
            "                                                                 \n",
            " dropout_1 (Dropout)         (None, 128)               0         \n",
            "                                                                 \n",
            " dense_3 (Dense)             (None, 64)                8256      \n",
            "                                                                 \n",
            " dropout_2 (Dropout)         (None, 64)                0         \n",
            "                                                                 \n",
            " dense_4 (Dense)             (None, 32)                2080      \n",
            "                                                                 \n",
            " dropout_3 (Dropout)         (None, 32)                0         \n",
            "                                                                 \n",
            " dense_5 (Dense)             (None, 2)                 66        \n",
            "                                                                 \n",
            "=================================================================\n",
            "Total params: 5,090,658\n",
            "Trainable params: 5,090,658\n",
            "Non-trainable params: 0\n",
            "_________________________________________________________________\n",
            "None\n"
          ]
        }
      ],
      "source": [
        "model_2 = optimize(model_v2)\n",
        "print(model_v2.summary())"
      ]
    },
    {
      "cell_type": "code",
      "execution_count": 28,
      "metadata": {
        "id": "3Xl5rnYUR24k"
      },
      "outputs": [],
      "source": [
        "checkpoint_name = 'v2_weights.best.hdf5'\n",
        "logs_name = 'training_logs'\n",
        "callbacks_list = callback_model(checkpoint_name,logs_name)"
      ]
    },
    {
      "cell_type": "code",
      "execution_count": 29,
      "metadata": {
        "colab": {
          "base_uri": "https://localhost:8080/"
        },
        "id": "ABJz267_SaOl",
        "outputId": "b886ca17-93a0-439a-b8d4-0f089738d51d"
      },
      "outputs": [
        {
          "output_type": "stream",
          "name": "stdout",
          "text": [
            "Epoch 1/20\n",
            "4592/4592 [==============================] - ETA: 0s - loss: 0.1275 - f1_score: 0.7363\n",
            "Epoch 1: val_f1_score improved from -inf to 0.73091, saving model to v2_weights.best.hdf5\n",
            "4592/4592 [==============================] - 108s 22ms/step - loss: 0.1275 - f1_score: 0.7363 - val_loss: 0.1159 - val_f1_score: 0.7309 - lr: 0.0100\n",
            "Epoch 2/20\n",
            "4592/4592 [==============================] - ETA: 0s - loss: 0.1181 - f1_score: 0.7624\n",
            "Epoch 2: val_f1_score improved from 0.73091 to 0.78344, saving model to v2_weights.best.hdf5\n",
            "4592/4592 [==============================] - 66s 14ms/step - loss: 0.1181 - f1_score: 0.7624 - val_loss: 0.1105 - val_f1_score: 0.7834 - lr: 0.0100\n",
            "Epoch 3/20\n",
            "4592/4592 [==============================] - ETA: 0s - loss: 0.1094 - f1_score: 0.7852\n",
            "Epoch 3: val_f1_score improved from 0.78344 to 0.78909, saving model to v2_weights.best.hdf5\n",
            "4592/4592 [==============================] - 62s 14ms/step - loss: 0.1094 - f1_score: 0.7852 - val_loss: 0.1041 - val_f1_score: 0.7891 - lr: 0.0030\n",
            "Epoch 4/20\n",
            "4588/4592 [============================>.] - ETA: 0s - loss: 0.1033 - f1_score: 0.7990\n",
            "Epoch 4: val_f1_score improved from 0.78909 to 0.80022, saving model to v2_weights.best.hdf5\n",
            "4592/4592 [==============================] - 64s 14ms/step - loss: 0.1033 - f1_score: 0.7990 - val_loss: 0.0997 - val_f1_score: 0.8002 - lr: 9.0000e-04\n",
            "Epoch 5/20\n",
            "4592/4592 [==============================] - ETA: 0s - loss: 0.0992 - f1_score: 0.8104\n",
            "Epoch 5: val_f1_score improved from 0.80022 to 0.80700, saving model to v2_weights.best.hdf5\n",
            "4592/4592 [==============================] - 63s 14ms/step - loss: 0.0992 - f1_score: 0.8104 - val_loss: 0.0969 - val_f1_score: 0.8070 - lr: 2.7000e-04\n",
            "Epoch 6/20\n",
            "4592/4592 [==============================] - ETA: 0s - loss: 0.0969 - f1_score: 0.8148\n",
            "Epoch 6: val_f1_score improved from 0.80700 to 0.81459, saving model to v2_weights.best.hdf5\n",
            "4592/4592 [==============================] - 64s 14ms/step - loss: 0.0969 - f1_score: 0.8148 - val_loss: 0.0954 - val_f1_score: 0.8146 - lr: 8.1000e-05\n",
            "Epoch 7/20\n",
            "4592/4592 [==============================] - ETA: 0s - loss: 0.0959 - f1_score: 0.8184\n",
            "Epoch 7: val_f1_score did not improve from 0.81459\n",
            "4592/4592 [==============================] - 64s 14ms/step - loss: 0.0959 - f1_score: 0.8184 - val_loss: 0.0950 - val_f1_score: 0.8142 - lr: 2.4300e-05\n",
            "Epoch 8/20\n",
            "4591/4592 [============================>.] - ETA: 0s - loss: 0.0957 - f1_score: 0.8183\n",
            "Epoch 8: val_f1_score did not improve from 0.81459\n",
            "4592/4592 [==============================] - 63s 14ms/step - loss: 0.0957 - f1_score: 0.8183 - val_loss: 0.0950 - val_f1_score: 0.8144 - lr: 7.2900e-06\n",
            "Epoch 9/20\n",
            "4592/4592 [==============================] - ETA: 0s - loss: 0.0956 - f1_score: 0.8186\n",
            "Epoch 9: val_f1_score did not improve from 0.81459\n",
            "4592/4592 [==============================] - 63s 14ms/step - loss: 0.0956 - f1_score: 0.8186 - val_loss: 0.0949 - val_f1_score: 0.8146 - lr: 2.1870e-06\n",
            "Epoch 10/20\n",
            "4592/4592 [==============================] - ETA: 0s - loss: 0.0955 - f1_score: 0.8187\n",
            "Epoch 10: val_f1_score improved from 0.81459 to 0.81461, saving model to v2_weights.best.hdf5\n",
            "4592/4592 [==============================] - 62s 13ms/step - loss: 0.0955 - f1_score: 0.8187 - val_loss: 0.0949 - val_f1_score: 0.8146 - lr: 6.5610e-07\n",
            "Epoch 11/20\n",
            "4591/4592 [============================>.] - ETA: 0s - loss: 0.0954 - f1_score: 0.8189\n",
            "Epoch 11: val_f1_score improved from 0.81461 to 0.81463, saving model to v2_weights.best.hdf5\n",
            "4592/4592 [==============================] - 64s 14ms/step - loss: 0.0954 - f1_score: 0.8189 - val_loss: 0.0949 - val_f1_score: 0.8146 - lr: 1.9683e-07\n",
            "Epoch 12/20\n",
            "4592/4592 [==============================] - ETA: 0s - loss: 0.0955 - f1_score: 0.8189\n",
            "Epoch 12: val_f1_score improved from 0.81463 to 0.81464, saving model to v2_weights.best.hdf5\n",
            "4592/4592 [==============================] - 63s 14ms/step - loss: 0.0955 - f1_score: 0.8189 - val_loss: 0.0949 - val_f1_score: 0.8146 - lr: 5.9049e-08\n",
            "Epoch 13/20\n",
            "4592/4592 [==============================] - ETA: 0s - loss: 0.0955 - f1_score: 0.8193\n",
            "Epoch 13: val_f1_score did not improve from 0.81464\n",
            "4592/4592 [==============================] - 63s 14ms/step - loss: 0.0955 - f1_score: 0.8193 - val_loss: 0.0949 - val_f1_score: 0.8146 - lr: 1.7715e-08\n",
            "Epoch 14/20\n",
            "4592/4592 [==============================] - ETA: 0s - loss: 0.0954 - f1_score: 0.8190\n",
            "Epoch 14: val_f1_score did not improve from 0.81464\n",
            "4592/4592 [==============================] - 63s 14ms/step - loss: 0.0954 - f1_score: 0.8190 - val_loss: 0.0949 - val_f1_score: 0.8146 - lr: 5.3144e-09\n",
            "Epoch 15/20\n",
            "4589/4592 [============================>.] - ETA: 0s - loss: 0.0955 - f1_score: 0.8187\n",
            "Epoch 15: val_f1_score did not improve from 0.81464\n",
            "4592/4592 [==============================] - 63s 14ms/step - loss: 0.0955 - f1_score: 0.8187 - val_loss: 0.0949 - val_f1_score: 0.8146 - lr: 1.5943e-09\n",
            "Epoch 16/20\n",
            "4592/4592 [==============================] - ETA: 0s - loss: 0.0955 - f1_score: 0.8188\n",
            "Epoch 16: val_f1_score did not improve from 0.81464\n",
            "4592/4592 [==============================] - 63s 14ms/step - loss: 0.0955 - f1_score: 0.8188 - val_loss: 0.0949 - val_f1_score: 0.8146 - lr: 4.7830e-10\n",
            "Epoch 17/20\n",
            "4592/4592 [==============================] - ETA: 0s - loss: 0.0955 - f1_score: 0.8188\n",
            "Epoch 17: val_f1_score did not improve from 0.81464\n",
            "4592/4592 [==============================] - 63s 14ms/step - loss: 0.0955 - f1_score: 0.8188 - val_loss: 0.0949 - val_f1_score: 0.8146 - lr: 1.4349e-10\n",
            "Epoch 18/20\n",
            "4592/4592 [==============================] - ETA: 0s - loss: 0.0955 - f1_score: 0.8191\n",
            "Epoch 18: val_f1_score did not improve from 0.81464\n",
            "4592/4592 [==============================] - 62s 14ms/step - loss: 0.0955 - f1_score: 0.8191 - val_loss: 0.0949 - val_f1_score: 0.8146 - lr: 4.3047e-11\n",
            "Epoch 19/20\n",
            "4589/4592 [============================>.] - ETA: 0s - loss: 0.0955 - f1_score: 0.8191\n",
            "Epoch 19: val_f1_score did not improve from 0.81464\n",
            "4592/4592 [==============================] - 63s 14ms/step - loss: 0.0955 - f1_score: 0.8191 - val_loss: 0.0949 - val_f1_score: 0.8146 - lr: 1.2914e-11\n"
          ]
        }
      ],
      "source": [
        "def train_model(model, callbacks_list, X_tr, y_tr, X_va, y_va):\n",
        "\n",
        "    model.fit(X_tr, y_tr,\n",
        "            epochs = 20,\n",
        "            batch_size = 256,\n",
        "            validation_data = (X_va, y_va),\n",
        "            callbacks = callbacks_list)\n",
        "    model = load_model('v2_weights.best.hdf5')\n",
        "    return model\n",
        "model_v2 = train_model(model_v2, callbacks_list, X_tr,y_tr,X_va,y_va)"
      ]
    },
    {
      "cell_type": "code",
      "execution_count": 30,
      "metadata": {
        "id": "8BGVB8hKYN_L",
        "colab": {
          "base_uri": "https://localhost:8080/"
        },
        "outputId": "98ab513f-801c-4770-cd68-2ae10a0ec559"
      },
      "outputs": [
        {
          "output_type": "stream",
          "name": "stdout",
          "text": [
            "18368/18368 [==============================] - 593s 32ms/step\n",
            "0.8497658654273993\n",
            "0.8610738582981136\n",
            "0.8553103650761693\n"
          ]
        }
      ],
      "source": [
        "test_predictions, test_groundtruths = get_prediction_classes(model,  X_te, y_te)\n",
        "print(precision_score(test_groundtruths, test_predictions, average='macro'))\n",
        "print(recall_score(test_groundtruths, test_predictions, average='macro'))\n",
        "print(f1_score(test_groundtruths, test_predictions, average='macro'))"
      ]
    },
    {
      "cell_type": "code",
      "execution_count": 31,
      "metadata": {
        "id": "JjFJzXiNcYCa",
        "colab": {
          "base_uri": "https://localhost:8080/",
          "height": 279
        },
        "outputId": "19d4e265-b0d5-4f13-eb34-c2832616b5b8"
      },
      "outputs": [
        {
          "output_type": "display_data",
          "data": {
            "text/plain": [
              "<Figure size 432x288 with 2 Axes>"
            ],
            "image/png": "[encoded data removed]"
          },
          "metadata": {
            "needs_background": "light"
          }
        }
      ],
      "source": [
        "class_name = ['valid','invalid']\n",
        "plot_confusion_matrix(test_predictions,test_groundtruths,class_name)"
      ]
    }
  ],
  "metadata": {
    "accelerator": "GPU",
    "colab": {
      "provenance": []
    },
    "gpuClass": "standard",
    "kernelspec": {
      "display_name": "Python 3",
      "name": "python3"
    }
  },
  "nbformat": 4,
  "nbformat_minor": 0
}